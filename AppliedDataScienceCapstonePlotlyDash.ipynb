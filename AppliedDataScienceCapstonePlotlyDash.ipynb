{
 "cells": [
  {
   "cell_type": "code",
   "execution_count": 1,
   "id": "5add04af-5ce8-466e-bac9-e4b32b7fe659",
   "metadata": {},
   "outputs": [
    {
     "name": "stderr",
     "output_type": "stream",
     "text": [
      "C:\\Users\\risha\\AppData\\Local\\Temp\\ipykernel_19588\\3420165411.py:2: UserWarning: \n",
      "The dash_core_components package is deprecated. Please replace\n",
      "`import dash_core_components as dcc` with `from dash import dcc`\n",
      "  import dash_core_components as dcc\n",
      "C:\\Users\\risha\\AppData\\Local\\Temp\\ipykernel_19588\\3420165411.py:3: UserWarning: \n",
      "The dash_html_components package is deprecated. Please replace\n",
      "`import dash_html_components as html` with `from dash import html`\n",
      "  import dash_html_components as html\n"
     ]
    }
   ],
   "source": [
    "import dash\n",
    "import dash_core_components as dcc\n",
    "import dash_html_components as html\n",
    "from dash.dependencies import Input, Output\n",
    "import plotly.express as px\n",
    "import pandas as pd"
   ]
  },
  {
   "cell_type": "code",
   "execution_count": 4,
   "id": "c6fc0448-2ebb-43fe-b9d2-9ca11d717306",
   "metadata": {},
   "outputs": [],
   "source": [
    "spacex_df = pd.read_csv(\"https://cf-courses-data.s3.us.cloud-object-storage.appdomain.cloud/IBM-DS0321EN-SkillsNetwork/datasets/spacex_launch_dash.csv\")"
   ]
  },
  {
   "cell_type": "code",
   "execution_count": 7,
   "id": "0341b822-77dd-4cea-88d5-70c450904065",
   "metadata": {},
   "outputs": [],
   "source": [
    "app = dash.Dash('spacex_launch_dash')"
   ]
  },
  {
   "cell_type": "code",
   "execution_count": 8,
   "id": "49d11bdd-c11c-43c1-abf3-8d1dd64bf4b8",
   "metadata": {},
   "outputs": [],
   "source": [
    "app.layout = html.Div([\n",
    "    dcc.Dropdown(id='site-dropdown',\n",
    "                 options=[{'label': 'All Sites', 'value': 'ALL'},\n",
    "                          {'label': 'CCAFS LC-40', 'value': 'CCAFS LC-40'},\n",
    "                          {'label': 'VAFB SLC-4E', 'value': 'VAFB SLC-4E'},\n",
    "                          {'label': 'KSC LC-39A', 'value': 'KSC LC-39A'},\n",
    "                          {'label': 'CCAFS SLC-40', 'value': 'CCAFS SLC-40'}],\n",
    "                 value='ALL',\n",
    "                 placeholder=\"Select a Launch Site\",\n",
    "                 searchable=True),\n",
    "    \n",
    "    dcc.Graph(id='success-pie-chart'),\n",
    "    \n",
    "    dcc.RangeSlider(id='payload-slider',\n",
    "                     min=0, max=10000, step=1000,\n",
    "                     marks={0: '0', 10000: '10000'},\n",
    "                     value=[0, 10000]),\n",
    "    \n",
    "    dcc.Graph(id='success-payload-scatter-chart')\n",
    "])"
   ]
  },
  {
   "cell_type": "code",
   "execution_count": 9,
   "id": "ffe7e3af-fcc1-4b5b-aefe-619da2e1ec99",
   "metadata": {},
   "outputs": [],
   "source": [
    "@app.callback(Output(component_id='success-pie-chart', component_property='figure'),\n",
    "              Input(component_id='site-dropdown', component_property='value'))\n",
    "def update_pie_chart(selected_site):\n",
    "    pass\n",
    "\n",
    "@app.callback(Output(component_id='success-payload-scatter-chart', component_property='figure'),\n",
    "              [Input(component_id='site-dropdown', component_property='value'),\n",
    "               Input(component_id='payload-slider', component_property='value')])\n",
    "def update_scatter_chart(selected_site, payload_range):\n",
    "    pass"
   ]
  },
  {
   "cell_type": "code",
   "execution_count": 10,
   "id": "b24bd701-dca4-4204-9cd5-d6f8f46b6d28",
   "metadata": {},
   "outputs": [
    {
     "data": {
      "text/html": [
       "\n",
       "        <iframe\n",
       "            width=\"100%\"\n",
       "            height=\"650\"\n",
       "            src=\"http://127.0.0.1:8050/\"\n",
       "            frameborder=\"0\"\n",
       "            allowfullscreen\n",
       "            \n",
       "        ></iframe>\n",
       "        "
      ],
      "text/plain": [
       "<IPython.lib.display.IFrame at 0x189252f00e0>"
      ]
     },
     "metadata": {},
     "output_type": "display_data"
    }
   ],
   "source": [
    "if __name__ == '__main__':\n",
    "    app.run_server(debug=True)"
   ]
  },
  {
   "cell_type": "code",
   "execution_count": null,
   "id": "179bfef1-a50f-4d18-8a1c-251b72f9b713",
   "metadata": {},
   "outputs": [],
   "source": []
  }
 ],
 "metadata": {
  "kernelspec": {
   "display_name": "Python 3 (ipykernel)",
   "language": "python",
   "name": "python3"
  },
  "language_info": {
   "codemirror_mode": {
    "name": "ipython",
    "version": 3
   },
   "file_extension": ".py",
   "mimetype": "text/x-python",
   "name": "python",
   "nbconvert_exporter": "python",
   "pygments_lexer": "ipython3",
   "version": "3.12.1"
  }
 },
 "nbformat": 4,
 "nbformat_minor": 5
}
